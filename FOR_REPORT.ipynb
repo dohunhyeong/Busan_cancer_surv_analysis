{
 "cells": [
  {
   "cell_type": "markdown",
   "metadata": {},
   "source": []
  },
  {
   "cell_type": "code",
   "execution_count": null,
   "metadata": {
    "vscode": {
     "languageId": "plaintext"
    }
   },
   "outputs": [],
   "source": [
    "### C-index PLOT"
   ]
  },
  {
   "cell_type": "code",
   "execution_count": null,
   "metadata": {
    "vscode": {
     "languageId": "plaintext"
    }
   },
   "outputs": [],
   "source": [
    "import matplotlib.pyplot as plt\n",
    "\n",
    "# 각 모델의 C-index 결과와 모델 이름\n",
    "results = [\n",
    "    cox_c_indices,\n",
    "    ridge_c_indices,\n",
    "    lasso_c_indices,\n",
    "    frailty_c_indices,\n",
    "    rsf_c_indices,\n",
    "]\n",
    "model_name = [\n",
    "    \"Cox Proportional Hazards\",\n",
    "    \"cox-ridge Model\",\n",
    "    \"cox-lasso Model\",\n",
    "    \"Frailty Model\",\n",
    "    \"Random Survival Forest\",\n",
    "]\n",
    "\n",
    "# 결과 시각화\n",
    "plt.figure(figsize=(20, 12), facecolor=\"white\")  # 전체 배경색을 하얗게 설정\n",
    "box = plt.boxplot(\n",
    "    results,\n",
    "    patch_artist=True,  # 박스 스타일을 사용자 정의할 수 있도록 설정\n",
    "    labels=model_name,\n",
    "    boxprops=dict(color=\"black\"),  # 박스 테두리를 검정색으로 설정\n",
    "    medianprops=dict(color=\"black\"),  # 중앙선을 검정색으로 설정\n",
    "    whiskerprops=dict(color=\"black\"),  # 수염을 검정색으로 설정\n",
    "    capprops=dict(color=\"black\"),  # 캡을 검정색으로 설정\n",
    "    flierprops=dict(markerfacecolor=\"white\", markeredgecolor=\"black\"),  # 아웃라이어 스타일\n",
    ")\n",
    "\n",
    "# 박스 안의 색상을 제거\n",
    "for patch in box[\"boxes\"]:\n",
    "    patch.set_facecolor(\"none\")\n",
    "\n",
    "# 축의 색깔 설정\n",
    "ax = plt.gca()  # 현재 축 가져오기\n",
    "ax.spines[\"bottom\"].set_color(\"black\")  # 아래쪽 X축 색깔 설정\n",
    "ax.spines[\"left\"].set_color(\"black\")  # 왼쪽 Y축 색깔 설정\n",
    "ax.spines[\"top\"].set_color(\"black\")  # 위쪽 축 색깔 설정\n",
    "ax.spines[\"right\"].set_color(\"black\")  # 오른쪽 축 색깔 설정\n",
    "\n",
    "# 축 눈금 색상 설정\n",
    "ax.tick_params(axis=\"x\", colors=\"black\")  # X축 눈금 색상\n",
    "ax.tick_params(axis=\"y\", colors=\"black\")  # Y축 눈금 색상\n",
    "\n",
    "# 그래프 제목 및 축 설정\n",
    "plt.title(\"Cross-Validation C-index Scores by Model\", color=\"black\", fontsize=16)\n",
    "plt.xlabel(\"Model\", color=\"black\", fontsize=14)\n",
    "plt.ylabel(\"C-index\", color=\"black\", fontsize=14)\n",
    "\n",
    "# y축 범위 조정\n",
    "plt.ylim(0.2, 0.8)\n",
    "\n",
    "# 눈금 스타일 설정\n",
    "plt.xticks(fontsize=12, color=\"black\", rotation=45)\n",
    "plt.yticks(fontsize=12, color=\"black\")\n",
    "\n",
    "# 격자선 설정\n",
    "plt.grid(axis=\"y\", linestyle=\"--\", color=\"lightgray\", alpha=0.7)  # 회색 격자선 추가\n",
    "\n",
    "# 그래프 출력\n",
    "plt.tight_layout()\n",
    "plt.show()\n"
   ]
  },
  {
   "cell_type": "markdown",
   "metadata": {},
   "source": [
    "## 치료 방법에 따른 생존시간\n",
    "* tx_1(수술), tx_2(화학요법), tx_3(방사선요법), tx_4(면역요법), tx_5(호르몬요법), 기타"
   ]
  },
  {
   "cell_type": "code",
   "execution_count": null,
   "metadata": {
    "vscode": {
     "languageId": "plaintext"
    }
   },
   "outputs": [],
   "source": [
    "from lifelines import KaplanMeierFitter\n",
    "import matplotlib.pyplot as plt\n",
    "\n",
    "data = pd.read_csv(\"C:/Users/user/Desktop/survival_data/DISEASE/colon.csv\", index_col=0)\n",
    "\n",
    "duration_col = \"stime\"\n",
    "event_col = \"event_inc\"\n",
    "frailty_col = \"gu_encoded\"\n",
    "\n",
    "data = data[['event_inc','tx_1','tx_2','tx_3','tx_4','tx_5','seer_TF','gu_encoded','stime']]\n",
    "\n",
    "# Initialize KaplanMeierFitter\n",
    "kmf = KaplanMeierFitter()\n",
    "\n",
    "# Plot survival curves for each treatment variable\n",
    "plt.figure(figsize=(12, 8), facecolor=\"white\")  # 전체 배경을 하얗게 설정\n",
    "\n",
    "for tx in [\"tx_1\", \"tx_2\", \"tx_3\", \"tx_4\", \"tx_5\"]:\n",
    "    kmf.fit(\n",
    "        data[data[tx] == 1][duration_col],\n",
    "        event_observed=data[data[tx] == 1][event_col],\n",
    "        label=f\"{tx} = 1\",\n",
    "    )\n",
    "    kmf.plot_survival_function(ci_show=False)\n",
    "\n",
    "# 축 테두리 색상 설정\n",
    "ax = plt.gca()  # 현재 축 가져오기\n",
    "ax.spines[\"bottom\"].set_color(\"black\")  # 아래쪽 X축 테두리 색상\n",
    "ax.spines[\"left\"].set_color(\"black\")  # 왼쪽 Y축 테두리 색상\n",
    "ax.spines[\"top\"].set_color(\"black\")  # 위쪽 테두리 색상\n",
    "ax.spines[\"right\"].set_color(\"black\")  # 오른쪽 테두리 색상\n",
    "\n",
    "# 눈금 색상 설정\n",
    "ax.tick_params(axis=\"x\", colors=\"black\")  # X축 눈금 색상\n",
    "ax.tick_params(axis=\"y\", colors=\"black\")  # Y축 눈금 색상\n",
    "\n",
    "# 제목과 축 레이블 설정\n",
    "plt.title(\"Survival Curves by Treatment Type\", color=\"black\", fontsize=16)\n",
    "plt.xlabel(\"Time\", color=\"black\", fontsize=14)\n",
    "plt.ylabel(\"Survival Probability\", color=\"black\", fontsize=14)\n",
    "\n",
    "# 범례 설정\n",
    "plt.legend(facecolor=\"white\", edgecolor=\"black\", fontsize=12)  # 범례 배경과 테두리 설정\n",
    "\n",
    "# 격자선 설정\n",
    "plt.grid(axis=\"y\", linestyle=\"--\", color=\"lightgray\", alpha=0.7)\n",
    "\n",
    "# 레이아웃 및 출력\n",
    "plt.tight_layout()\n",
    "plt.show()"
   ]
  },
  {
   "cell_type": "markdown",
   "metadata": {},
   "source": [
    "## 지역별 누적 위험률"
   ]
  },
  {
   "cell_type": "code",
   "execution_count": null,
   "metadata": {
    "vscode": {
     "languageId": "plaintext"
    }
   },
   "outputs": [],
   "source": [
    "import matplotlib.pyplot as plt\n",
    "\n",
    "# 한글 폰트 설정\n",
    "plt.rcParams[\"font.family\"] = \"Malgun Gothic\"  # Windows\n",
    "plt.rcParams[\"axes.unicode_minus\"] = False  # 마이너스 기호 깨짐 방지\n",
    "plt.rcParams[\"axes.facecolor\"] = \"white\"  # 축 배경색을 하얀색으로 설정\n",
    "plt.rcParams[\"text.color\"] = \"black\"  # 텍스트 색상을 검정색으로 설정\n",
    "plt.rcParams[\"axes.labelcolor\"] = \"black\"  # x, y 축 라벨 색상\n",
    "plt.rcParams[\"xtick.color\"] = \"black\"  # x축 눈금 색상\n",
    "plt.rcParams[\"ytick.color\"] = \"black\"  # y축 눈금 색상\n",
    "plt.rcParams[\"legend.edgecolor\"] = \"black\"  # 범례 테두리 색상\n",
    "\n",
    "# 지역별 누적 위험률 시각화\n",
    "frailty_effects = frailty_model.baseline_cumulative_hazard_\n",
    "\n",
    "# 선 종류 리스트 (순환 사용)\n",
    "linestyles = [\"-\", \"--\", \"-.\", \":\"]\n",
    "plt.figure(figsize=(12, 8), facecolor=\"white\")  # 전체 figure 배경색을 하얀색으로 설정\n",
    "\n",
    "for idx, gu in enumerate(frailty_effects.columns):  # 각 지역이 컬럼에 있음\n",
    "    plt.plot(\n",
    "        frailty_effects.index,\n",
    "        frailty_effects[gu],\n",
    "        label=f\"gu={gu}\",\n",
    "        linestyle=linestyles[idx % len(linestyles)],  # 선 종류를 순환 적용\n",
    "    )\n",
    "\n",
    "# 제목, 축 라벨, 범례 설정\n",
    "plt.title(\"지역별 누적 위험률 (Baseline Cumulative Hazard)\", color=\"black\")\n",
    "plt.xlabel(\"시간\", color=\"black\")\n",
    "plt.ylabel(\"누적 위험률\", color=\"black\")\n",
    "plt.legend(loc=\"upper left\", bbox_to_anchor=(1, 1), facecolor=\"white\", edgecolor=\"black\")  # 범례 배경을 하얀색으로 설정\n",
    "\n",
    "# 격자 스타일 설정\n",
    "plt.grid(color=\"lightgray\", alpha=0.7)  # 격자선을 연한 회색으로 설정\n",
    "plt.tight_layout()\n",
    "plt.show()\n"
   ]
  },
  {
   "cell_type": "code",
   "execution_count": null,
   "metadata": {
    "vscode": {
     "languageId": "plaintext"
    }
   },
   "outputs": [],
   "source": []
  }
 ],
 "metadata": {
  "language_info": {
   "name": "python"
  }
 },
 "nbformat": 4,
 "nbformat_minor": 2
}
